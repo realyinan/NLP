{
 "cells": [
  {
   "cell_type": "code",
   "execution_count": 1,
   "metadata": {},
   "outputs": [],
   "source": [
    "import jieba"
   ]
  },
  {
   "cell_type": "markdown",
   "metadata": {},
   "source": [
    "## 精确分词模式"
   ]
  },
  {
   "cell_type": "code",
   "execution_count": 12,
   "metadata": {},
   "outputs": [
    {
     "name": "stdout",
     "output_type": "stream",
     "text": [
      "<generator object Tokenizer.cut at 0x0000022E6F356560>\n",
      "['村人到', '教堂', '去', '做礼拜', '，', '发现', '路旁', '坐', '着', '一个', '手艺人', '。']\n"
     ]
    }
   ],
   "source": [
    "# 按照人类日常用语表达习惯来分词\n",
    "content = \"村人到教堂去做礼拜，发现路旁坐着一个手艺人。\"\n",
    "result = jieba.cut(content, cut_all=False)  # 默认 cut_all=False\n",
    "print(result)\n",
    "# print(next(result))\n",
    "# for i in result:\n",
    "#     print(i)\n",
    "print(list(result))"
   ]
  },
  {
   "cell_type": "code",
   "execution_count": 13,
   "metadata": {},
   "outputs": [
    {
     "name": "stdout",
     "output_type": "stream",
     "text": [
      "['村人到', '教堂', '去', '做礼拜', '，', '发现', '路旁', '坐', '着', '一个', '手艺人', '。']\n"
     ]
    }
   ],
   "source": [
    "result = jieba.lcut(content, cut_all=False)\n",
    "print(result)"
   ]
  },
  {
   "cell_type": "markdown",
   "metadata": {},
   "source": [
    "## 全模式分词"
   ]
  },
  {
   "cell_type": "code",
   "execution_count": null,
   "metadata": {},
   "outputs": [
    {
     "name": "stdout",
     "output_type": "stream",
     "text": [
      "['村人', '到', '教堂', '去', '做礼拜', '礼拜', '，', '发现', '路旁', '旁坐', '着', '一个', '手艺', '手艺人', '艺人', '。']\n"
     ]
    }
   ],
   "source": [
    "# 把句子中所有可能的词语都找出来\n",
    "content = \"村人到教堂去做礼拜，发现路旁坐着一个手艺人。\"\n",
    "result = jieba.lcut(content, cut_all=True)\n",
    "print(result)"
   ]
  },
  {
   "cell_type": "markdown",
   "metadata": {},
   "source": [
    "## 搜索引擎分词"
   ]
  },
  {
   "cell_type": "code",
   "execution_count": 15,
   "metadata": {},
   "outputs": [
    {
     "name": "stdout",
     "output_type": "stream",
     "text": [
      "<generator object Tokenizer.cut_for_search at 0x0000022E6F7430A0>\n"
     ]
    }
   ],
   "source": [
    "# 在精确模式基础上，对长词进行再次切分\n",
    "content = \"村人到教堂去做礼拜，发现路旁坐着一个手艺人。\"\n",
    "result = jieba.cut_for_search(content)\n",
    "print(result)"
   ]
  },
  {
   "cell_type": "code",
   "execution_count": 16,
   "metadata": {},
   "outputs": [
    {
     "name": "stdout",
     "output_type": "stream",
     "text": [
      "['村人', '村人到', '教堂', '去', '礼拜', '做礼拜', '，', '发现', '路旁', '坐', '着', '一个', '手艺', '艺人', '手艺人', '。']\n"
     ]
    }
   ],
   "source": [
    "result = jieba.lcut_for_search(content)\n",
    "print(result)"
   ]
  },
  {
   "cell_type": "markdown",
   "metadata": {},
   "source": [
    "## 支持中文繁体分词"
   ]
  },
  {
   "cell_type": "code",
   "execution_count": 18,
   "metadata": {},
   "outputs": [
    {
     "name": "stdout",
     "output_type": "stream",
     "text": [
      "['村人到', '教堂', '去', '做', '禮拜', '，', '發現', '路旁', '坐著', '一個', '手藝人', '。']\n"
     ]
    }
   ],
   "source": [
    "content = \"村人到教堂去做禮拜，發現路旁坐著一個手藝人。\"\n",
    "result = jieba.lcut(content)\n",
    "print(result)"
   ]
  },
  {
   "cell_type": "markdown",
   "metadata": {},
   "source": [
    "## 支持用户自定义词典"
   ]
  },
  {
   "cell_type": "code",
   "execution_count": 19,
   "metadata": {},
   "outputs": [
    {
     "name": "stdout",
     "output_type": "stream",
     "text": [
      "['传智', '教育', '是', '一家', '上市公司', '，', '旗下', '有', '黑马', '程序员', '品牌', '。', '我', '是', '在', '黑马', '这里', '学习', '人工智能']\n"
     ]
    }
   ],
   "source": [
    "content = \"传智教育是一家上市公司，旗下有黑马程序员品牌。我是在黑马这里学习人工智能\"\n",
    "result = jieba.lcut(content, cut_all=False)\n",
    "print(result)"
   ]
  },
  {
   "cell_type": "code",
   "execution_count": 21,
   "metadata": {},
   "outputs": [
    {
     "name": "stdout",
     "output_type": "stream",
     "text": [
      "['传智教育', '是', '一家', '上市公司', '，', '旗下', '有', '黑马程序员', '品牌', '。', '我', '是', '在', '黑马', '这里', '学习', '人工智能']\n"
     ]
    }
   ],
   "source": [
    "jieba.load_userdict(\"./user_dict.txt\")\n",
    "result = jieba.lcut(content, cut_all=False)\n",
    "print(result)"
   ]
  }
 ],
 "metadata": {
  "kernelspec": {
   "display_name": "DL",
   "language": "python",
   "name": "python3"
  },
  "language_info": {
   "codemirror_mode": {
    "name": "ipython",
    "version": 3
   },
   "file_extension": ".py",
   "mimetype": "text/x-python",
   "name": "python",
   "nbconvert_exporter": "python",
   "pygments_lexer": "ipython3",
   "version": "3.11.1"
  }
 },
 "nbformat": 4,
 "nbformat_minor": 2
}
